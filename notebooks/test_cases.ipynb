{
 "cells": [
  {
   "cell_type": "code",
   "execution_count": 1,
   "metadata": {},
   "outputs": [],
   "source": [
    "import numpy as np\n",
    "import llcf_test"
   ]
  },
  {
   "cell_type": "code",
   "execution_count": 2,
   "metadata": {},
   "outputs": [],
   "source": [
    "np.random.seed(0)\n",
    "\n",
    "data_sets = {}\n",
    "\n",
    "n = 1000"
   ]
  },
  {
   "cell_type": "markdown",
   "metadata": {},
   "source": [
    "# Generate test cases"
   ]
  },
  {
   "cell_type": "markdown",
   "metadata": {},
   "source": [
    "## 1-dimensional test cases"
   ]
  },
  {
   "cell_type": "code",
   "execution_count": 3,
   "metadata": {},
   "outputs": [],
   "source": [
    "# Test Case 1: Linear function\n",
    "X = np.random.normal(size=(n,1))\n",
    "Y = 4*X + 3\n",
    "\n",
    "data_sets[\"tc1\"] = { \"X\": X, \"Y\": Y}"
   ]
  },
  {
   "cell_type": "code",
   "execution_count": 4,
   "metadata": {},
   "outputs": [],
   "source": [
    "# Test Case 2: Linear function with noise\n",
    "X = np.random.normal(size=(n,1))\n",
    "Y = 4*X + 3\n",
    "Y +=  0.1*np.random.normal(size=(n,1))\n",
    "\n",
    "data_sets[\"tc2\"] = { \"X\": X, \"Y\": Y}"
   ]
  },
  {
   "cell_type": "code",
   "execution_count": 5,
   "metadata": {},
   "outputs": [],
   "source": [
    "# Test Case 3: Linear function with noise\n",
    "X = np.random.normal(size=(n,1))\n",
    "Y = 4*X + 3\n",
    "Y +=  0.3*np.random.normal(size=(n,1))\n",
    "\n",
    "data_sets[\"tc3\"] = { \"X\": X, \"Y\": Y}"
   ]
  },
  {
   "cell_type": "code",
   "execution_count": 6,
   "metadata": {},
   "outputs": [],
   "source": [
    "# Test Case 4: Quadratic function\n",
    "X = np.random.uniform(low=-1.0, high=1.0, size=n).reshape(-1,1)\n",
    "Y = 4*X**2 + 2\n",
    "\n",
    "data_sets[\"tc4\"] = { \"X\": X, \"Y\": Y}"
   ]
  },
  {
   "cell_type": "code",
   "execution_count": 7,
   "metadata": {},
   "outputs": [],
   "source": [
    "# Test Case 5: Quadratic function with noise\n",
    "X = np.random.normal(size=n).reshape(-1,1)\n",
    "Y = 4*X**2 + 2\n",
    "Y +=  0.1*np.random.normal(size=(n,1))\n",
    "\n",
    "data_sets[\"tc5\"] = { \"X\": X, \"Y\": Y}"
   ]
  },
  {
   "cell_type": "code",
   "execution_count": 8,
   "metadata": {},
   "outputs": [],
   "source": [
    "# Test Case 6: Pure noise\n",
    "X = np.random.normal(size=(n,1))\n",
    "Y = np.random.normal(size=(n,1))\n",
    "\n",
    "data_sets[\"tc6\"] = { \"X\": X, \"Y\": Y}"
   ]
  },
  {
   "cell_type": "code",
   "execution_count": 9,
   "metadata": {},
   "outputs": [],
   "source": [
    "# Test Case 7: 1/x\n",
    "X = np.random.uniform(size=(n,1))\n",
    "Y = 1.0 / X\n",
    "\n",
    "data_sets[\"tc7\"] = { \"X\": X, \"Y\": Y}"
   ]
  },
  {
   "cell_type": "code",
   "execution_count": 10,
   "metadata": {},
   "outputs": [],
   "source": [
    "# Test Case 8: Ragged, deterministic, self-similar (Weiestrass)\n",
    "def weierstrass(t, N):\n",
    "    M = t.shape[0]\n",
    "    y = np.zeros(M)\n",
    "    for n in range(1,N):\n",
    "        y = y + np.cos(3**n*np.pi*t)/2**n\n",
    "    return y\n",
    "\n",
    "X = np.linspace(-2,2,n)\n",
    "Y = weierstrass(X, 500)\n",
    "\n",
    "X = X.reshape(-1,1)\n",
    "Y = Y.reshape(-1,1).astype(float)\n",
    "\n",
    "data_sets[\"tc8\"] = { \"X\": X, \"Y\": Y}"
   ]
  },
  {
   "cell_type": "code",
   "execution_count": 11,
   "metadata": {},
   "outputs": [],
   "source": [
    "# Test Case 9: Ragged, stochastic, self-similar (Brownian motion)\n",
    "dt = 0.01\n",
    "\n",
    "X = np.arange(0, n*dt, dt).reshape(-1,1)\n",
    "Y = np.cumsum(np.random.normal(0, dt**2, n)).reshape(-1,1)\n",
    "\n",
    "data_sets[\"tc9\"] = { \"X\": X, \"Y\": Y}"
   ]
  },
  {
   "cell_type": "markdown",
   "metadata": {},
   "source": [
    "## Multi-dimensional test cases"
   ]
  },
  {
   "cell_type": "code",
   "execution_count": 12,
   "metadata": {},
   "outputs": [],
   "source": [
    "# Test Case 10: Simple invertible linear map\n",
    "A = np.array([[2, 4],\n",
    "              [3 , 1]])\n",
    "\n",
    "X = np.random.uniform(size=(n,2))\n",
    "Y = np.dot(X, A.T)\n",
    "\n",
    "data_sets[\"tc10\"] = { \"X\": X, \"Y\": Y}"
   ]
  },
  {
   "cell_type": "code",
   "execution_count": 13,
   "metadata": {},
   "outputs": [],
   "source": [
    "# Test Case 11: Rotation in 2D\n",
    "theta = 45 * (np.pi/180)\n",
    "A = np.array([[np.cos(theta), -np.sin(theta) ],\n",
    "              [ np.sin(theta),  np.cos(theta)]])\n",
    "\n",
    "X = np.random.uniform(size=(n,2))\n",
    "Y = np.dot(X, A.T)\n",
    "\n",
    "data_sets[\"tc11\"] = { \"X\": X, \"Y\": Y}"
   ]
  },
  {
   "cell_type": "code",
   "execution_count": 14,
   "metadata": {},
   "outputs": [],
   "source": [
    "# Test Case 12: Linear embedding from 2D to 3D\n",
    "A_T = np.array([[0.2, 0.4, 0.4],\n",
    "              [0. , 0.4, 0.6]])\n",
    "\n",
    "X = np.random.uniform(size=(n,2))\n",
    "Y = np.dot(X, A_T)\n",
    "\n",
    "data_sets[\"tc12\"] = { \"X\": X, \"Y\": Y}"
   ]
  },
  {
   "cell_type": "code",
   "execution_count": 15,
   "metadata": {},
   "outputs": [],
   "source": [
    "# Test Case 13: Weak nonlinear embedding from 2D to 3D\n",
    "def f(x):\n",
    "    return np.array([ x[0], x[1], x[0]**2 + np.log(x[1]) ])\n",
    "\n",
    "X = np.random.uniform(size=(n,2))\n",
    "Y = np.apply_along_axis(f, 1, X)\n",
    "\n",
    "data_sets[\"tc13\"] = { \"X\": X, \"Y\": Y}"
   ]
  },
  {
   "cell_type": "code",
   "execution_count": 16,
   "metadata": {},
   "outputs": [],
   "source": [
    "# Test Case 14: Nonlinear transform in 2D\n",
    "def f(x):\n",
    "    return np.array([ x[0]**2, np.log(3+x[1]) ])\n",
    "\n",
    "X = np.random.uniform(size=(n,2))\n",
    "Y = np.apply_along_axis(f, 1, X)\n",
    "\n",
    "data_sets[\"tc14\"] = { \"X\": X, \"Y\": Y}"
   ]
  },
  {
   "cell_type": "code",
   "execution_count": 17,
   "metadata": {},
   "outputs": [],
   "source": [
    "# Test Case 15: Strong nonlinear embedding from 2D to 3D\n",
    "def f(x):\n",
    "    return np.array([ x[0]**2, np.log(3+x[1]), x[0] + x[1] ])\n",
    "\n",
    "X = np.random.uniform(size=(n,2))\n",
    "Y = np.apply_along_axis(f, 1, X)\n",
    "\n",
    "data_sets[\"tc15\"] = { \"X\": X, \"Y\": Y}"
   ]
  },
  {
   "cell_type": "code",
   "execution_count": 18,
   "metadata": {},
   "outputs": [],
   "source": [
    "# Test Case 16: Quadratic transform in 2D\n",
    "def f(x):\n",
    "    return np.array([ x[1], x[0]**2 ])\n",
    "\n",
    "X = np.random.uniform(low=-1.0, high=1.0, size=(n,2))\n",
    "Y = np.apply_along_axis(f, 1, X)\n",
    "\n",
    "data_sets[\"tc16\"] = { \"X\": X, \"Y\": Y}"
   ]
  },
  {
   "cell_type": "code",
   "execution_count": 19,
   "metadata": {},
   "outputs": [],
   "source": [
    "# Test Case 17: Quadratic embedding from 2D to 3D\n",
    "def f(x):\n",
    "    return np.array([ x[0], x[1], x[0]**2 ])\n",
    "\n",
    "X = np.random.uniform(low=-1.0, high=1.0, size=(n,2))\n",
    "Y = np.apply_along_axis(f, 1, X)\n",
    "\n",
    "data_sets[\"tc17\"] = { \"X\": X, \"Y\": Y}"
   ]
  },
  {
   "cell_type": "code",
   "execution_count": 20,
   "metadata": {},
   "outputs": [],
   "source": [
    "# Test Case 18: Strong nonlinear embedding from 2D to 3D\n",
    "def f(x):\n",
    "    return np.array([ x[0]**2 + x[1]**3, np.log(3+x[1]) * x[0], x[0] + x[1] ])\n",
    "\n",
    "X = np.random.uniform(size=(n,2))\n",
    "Y = np.apply_along_axis(f, 1, X)\n",
    "\n",
    "data_sets[\"tc18\"] = { \"X\": X, \"Y\": Y}"
   ]
  },
  {
   "cell_type": "markdown",
   "metadata": {},
   "source": [
    "# Running the tests"
   ]
  },
  {
   "cell_type": "code",
   "execution_count": 21,
   "metadata": {},
   "outputs": [
    {
     "name": "stdout",
     "output_type": "stream",
     "text": [
      "tc1 ((1.0, 1.0), (1.0, 1.0))\n",
      "tc2 ((0.13495000000000001, 0.223525), (0.11195000000000001, 0.22252499999999997))\n",
      "tc3 ((0.004475, 0.033), (0.004, 0.04104999999999999))\n",
      "tc4 ((1.0, 1.0), (0.0, 0.006524999999999992))\n",
      "tc5 ((0.31789999999999996, 0.4342499999999999), (0.0, 0.0))\n",
      "tc6 ((0.0, 0.0), (0.0, 0.0))\n",
      "tc7 ((1.0, 1.0), (1.0, 1.0))\n",
      "tc8 ((0.0, 0.008049999999999983), (0.0, 0.0))\n",
      "tc9 ((0.0, 0.03752499999999999), (0.0, 0.0))\n",
      "tc10 ((1.0, 1.0), (1.0, 1.0))\n",
      "tc11 ((1.0, 1.0), (1.0, 1.0))\n",
      "tc12 ((1.0, 1.0), (nan, nan))\n",
      "tc13 ((1.0, 1.0), (1.0, 1.0))\n",
      "tc14 ((1.0, 1.0), (1.0, 1.0))\n",
      "tc15 ((1.0, 1.0), (1.0, 1.0))\n",
      "tc16 ((1.0, 1.0), (0.031, 0.05904999999999998))\n",
      "tc17 ((1.0, 1.0), (1.0, 1.0))\n",
      "tc18 ((1.0, 1.0), (1.0, 1.0))\n"
     ]
    }
   ],
   "source": [
    "for test in data_sets:\n",
    "    X = data_sets[test][\"X\"]\n",
    "    Y = data_sets[test][\"Y\"]\n",
    "    \n",
    "    res = llcf_test.conf_ints(X, Y, autoscale=\"minmax\", bootstrap_iters=100, alpha=0.05, gamma=0.0)\n",
    "    print(test, res)"
   ]
  },
  {
   "cell_type": "code",
   "execution_count": null,
   "metadata": {},
   "outputs": [],
   "source": []
  }
 ],
 "metadata": {
  "kernelspec": {
   "display_name": "Python 3",
   "language": "python",
   "name": "python3"
  },
  "language_info": {
   "codemirror_mode": {
    "name": "ipython",
    "version": 3
   },
   "file_extension": ".py",
   "mimetype": "text/x-python",
   "name": "python",
   "nbconvert_exporter": "python",
   "pygments_lexer": "ipython3",
   "version": "3.8.5"
  }
 },
 "nbformat": 4,
 "nbformat_minor": 4
}
